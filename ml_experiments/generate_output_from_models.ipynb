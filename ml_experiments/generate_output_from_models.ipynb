{
 "cells": [
  {
   "cell_type": "code",
   "execution_count": 1,
   "id": "682e3c32",
   "metadata": {},
   "outputs": [],
   "source": [
    "import numpy as np\n",
    "from PIL import Image\n",
    "import torch\n",
    "import torchvision.transforms as transforms\n",
    "\n",
    "import torch.nn as nn\n",
    "from typing import Tuple, Iterable\n",
    "\n",
    "import torch.nn.utils as utils\n",
    "\n",
    "from functorch import vmap\n",
    "import torch.nn.functional as F\n",
    "\n",
    "import matplotlib.pyplot as plt"
   ]
  },
  {
   "cell_type": "code",
   "execution_count": null,
   "id": "d39f7f30",
   "metadata": {
    "scrolled": false
   },
   "outputs": [],
   "source": []
  },
  {
   "cell_type": "code",
   "execution_count": 2,
   "id": "22775d7b",
   "metadata": {},
   "outputs": [],
   "source": [
    "# Siamese Model\n",
    "\n",
    "class SiameseNetwork(nn.Module):\n",
    "    def __init__(self, cnn_layers: Iterable, linear_layers):\n",
    "        super().__init__()\n",
    "        \n",
    "        # pass in a NN\n",
    "        self.cnn_layers = nn.Sequential(*cnn_layers)\n",
    "        self.linear_layers = nn.Sequential(*linear_layers)\n",
    "        \n",
    "    \n",
    "    def forward(self, x_query: torch.Tensor, x_support: torch.Tensor) -> Tuple[torch.Tensor, torch.Tensor]:\n",
    "        \"\"\"Forward Pass:\n",
    "            arg: Query Image (any image)\n",
    "                 Support Image\n",
    "        \n",
    "        \"\"\"\n",
    "                \n",
    "        x_query = self.cnn_layers(x_query)        \n",
    "        x_support = self.cnn_layers(x_support)\n",
    "        \n",
    "        # similarity between query and support images. will be used for triplet loss\n",
    "        similarity = vmap(F.pairwise_distance)(x_query, x_support)[:, None]        \n",
    "\n",
    "        # logits for query image. will be used for cross entropy loss\n",
    "        logits = self.linear_layers(x_query.view(x_query.size()[0], -1))\n",
    "            \n",
    "        return similarity, logits\n"
   ]
  },
  {
   "cell_type": "code",
   "execution_count": 25,
   "id": "eda97d49",
   "metadata": {},
   "outputs": [],
   "source": [
    "def get_image(path):\n",
    "\n",
    "    image = Image.open(path).convert(\"RGB\")\n",
    "    plt.imshow(image)\n",
    "    plt.show()\n",
    "    \n",
    "    transform = transforms.Compose([\n",
    "        transforms.Resize((28, 28)),\n",
    "        transforms.ToTensor()\n",
    "    ])\n",
    "\n",
    "    image = transform(image)\n",
    "    \n",
    "    plt.imshow(image.permute(1, 2, 0))\n",
    "        \n",
    "    image = torch.unsqueeze(image, 0)\n",
    "    \n",
    "    return image\n"
   ]
  },
  {
   "cell_type": "code",
   "execution_count": 26,
   "id": "e8606d32",
   "metadata": {},
   "outputs": [],
   "source": [
    "\n",
    "accident_model_path = 'saved_models/accident_with_cifar_best_model.pth'\n",
    "severity_model_path = 'saved_models/severity_best_model.pth'\n",
    "\n",
    "accident_model = torch.load(accident_model_path)\n",
    "severity_model = torch.load(severity_model_path)\n"
   ]
  },
  {
   "cell_type": "code",
   "execution_count": 27,
   "id": "db751a1e",
   "metadata": {},
   "outputs": [],
   "source": [
    "# model_parameters = filter(lambda p: p.requires_grad, model.parameters())\n",
    "# params = sum([np.prod(p.size()) for p in model_parameters])\n",
    "\n",
    "# print(params)"
   ]
  },
  {
   "cell_type": "code",
   "execution_count": null,
   "id": "ac4d382c",
   "metadata": {},
   "outputs": [],
   "source": []
  },
  {
   "cell_type": "code",
   "execution_count": 33,
   "id": "2e5ee91d",
   "metadata": {
    "scrolled": false
   },
   "outputs": [
    {
     "data": {
      "image/png": "[encoded data removed]",
      "text/plain": [
       "<Figure size 640x480 with 1 Axes>"
      ]
     },
     "metadata": {},
     "output_type": "display_data"
    },
    {
     "name": "stdout",
     "output_type": "stream",
     "text": [
      "\n",
      "Accident : No, Yes\n",
      "\n",
      "Probabilities :  [0.48750684 0.17141803 0.3410752 ] \n",
      "Prediction   :  0 \n",
      "\n"
     ]
    },
    {
     "data": {
      "image/png": "[encoded data removed]",
      "text/plain": [
       "<Figure size 640x480 with 1 Axes>"
      ]
     },
     "metadata": {},
     "output_type": "display_data"
    }
   ],
   "source": [
    "accident_model.eval()\n",
    "severity_model.eval()\n",
    "\n",
    "image = get_image(\"test_images/0987.jpg\")\n",
    "\n",
    "_, acc_logits = accident_model(image, image)\n",
    "acc_logits = torch.softmax(acc_logits, dim=-1)\n",
    "\n",
    "accident_prediction = torch.argmax(acc_logits, dim=-1).item()\n",
    "\n",
    "\n",
    "print(\"\\nAccident : No, Yes\\n\")\n",
    "print(\"Probabilities : \", acc_logits.detach().numpy()[0], \"\\nPrediction   : \", accident_prediction, \"\\n\")\n",
    "\n",
    "if(accident_prediction == 1):\n",
    "    _, sev_logits = severity_model(image, image)\n",
    "    sev_logits = torch.softmax(sev_logits, dim=-1)\n",
    "\n",
    "    severity_prediction = torch.argmax(sev_logits, dim=-1).item()\n",
    "\n",
    "    print(\"\\nSeverity : Low, Medium, High\\n\")\n",
    "    print(\"Probabilities : \", sev_logits.detach().numpy()[0], \"\\nPrediction   : \", severity_prediction, \"\\n\")"
   ]
  },
  {
   "cell_type": "code",
   "execution_count": null,
   "id": "902483b3",
   "metadata": {},
   "outputs": [],
   "source": []
  },
  {
   "cell_type": "code",
   "execution_count": null,
   "id": "f2953ba8",
   "metadata": {},
   "outputs": [],
   "source": []
  },
  {
   "cell_type": "code",
   "execution_count": null,
   "id": "bd2c8c49",
   "metadata": {},
   "outputs": [],
   "source": []
  },
  {
   "cell_type": "code",
   "execution_count": null,
   "id": "38cc48da",
   "metadata": {},
   "outputs": [],
   "source": []
  }
 ],
 "metadata": {
  "kernelspec": {
   "display_name": "rpienv",
   "language": "python",
   "name": "rpienv"
  },
  "language_info": {
   "codemirror_mode": {
    "name": "ipython",
    "version": 3
   },
   "file_extension": ".py",
   "mimetype": "text/x-python",
   "name": "python",
   "nbconvert_exporter": "python",
   "pygments_lexer": "ipython3",
   "version": "3.10.0"
  }
 },
 "nbformat": 4,
 "nbformat_minor": 5
}
